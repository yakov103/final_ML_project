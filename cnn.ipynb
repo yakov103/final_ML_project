{
 "cells": [
  {
   "cell_type": "code",
   "execution_count": 4,
   "metadata": {},
   "outputs": [],
   "source": [
    "import numpy as np\n",
    "import pandas as pd\n",
    "import matplotlib.pyplot as plt \n",
    "import seaborn as sns\n",
    "import os\n",
    "import random\n",
    "import cv2\n",
    "from sklearn.model_selection import train_test_split\n",
    "import tensorflow as tf\n",
    "from tensorflow import keras\n",
    "from keras import layers\n",
    "\n",
    "\n",
    "np.random.seed(0)"
   ]
  },
  {
   "cell_type": "code",
   "execution_count": 10,
   "metadata": {},
   "outputs": [
    {
     "name": "stdout",
     "output_type": "stream",
     "text": [
      "A\n",
      "B\n",
      "C\n",
      "D\n",
      "E\n",
      "F\n",
      "G\n",
      "H\n",
      "I\n",
      "J\n",
      "K\n",
      "L\n",
      "M\n",
      "N\n",
      "O\n",
      "P\n",
      "Q\n",
      "R\n",
      "S\n",
      "T\n",
      "U\n",
      "V\n",
      "W\n",
      "X\n",
      "Y\n",
      "Z\n"
     ]
    },
    {
     "data": {
      "text/plain": [
       "array([[1, 0, 0, 0, 0, 0, 0, 0, 0, 0, 0, 0, 0, 0, 0, 0, 0, 0, 0, 0, 0, 0,\n",
       "        0, 0, 0, 0],\n",
       "       [0, 1, 0, 0, 0, 0, 0, 0, 0, 0, 0, 0, 0, 0, 0, 0, 0, 0, 0, 0, 0, 0,\n",
       "        0, 0, 0, 0],\n",
       "       [0, 0, 1, 0, 0, 0, 0, 0, 0, 0, 0, 0, 0, 0, 0, 0, 0, 0, 0, 0, 0, 0,\n",
       "        0, 0, 0, 0],\n",
       "       [0, 0, 0, 1, 0, 0, 0, 0, 0, 0, 0, 0, 0, 0, 0, 0, 0, 0, 0, 0, 0, 0,\n",
       "        0, 0, 0, 0],\n",
       "       [0, 0, 0, 0, 1, 0, 0, 0, 0, 0, 0, 0, 0, 0, 0, 0, 0, 0, 0, 0, 0, 0,\n",
       "        0, 0, 0, 0],\n",
       "       [0, 0, 0, 0, 0, 1, 0, 0, 0, 0, 0, 0, 0, 0, 0, 0, 0, 0, 0, 0, 0, 0,\n",
       "        0, 0, 0, 0],\n",
       "       [0, 0, 0, 0, 0, 0, 1, 0, 0, 0, 0, 0, 0, 0, 0, 0, 0, 0, 0, 0, 0, 0,\n",
       "        0, 0, 0, 0],\n",
       "       [0, 0, 0, 0, 0, 0, 0, 1, 0, 0, 0, 0, 0, 0, 0, 0, 0, 0, 0, 0, 0, 0,\n",
       "        0, 0, 0, 0],\n",
       "       [0, 0, 0, 0, 0, 0, 0, 0, 1, 0, 0, 0, 0, 0, 0, 0, 0, 0, 0, 0, 0, 0,\n",
       "        0, 0, 0, 0],\n",
       "       [0, 0, 0, 0, 0, 0, 0, 0, 0, 1, 0, 0, 0, 0, 0, 0, 0, 0, 0, 0, 0, 0,\n",
       "        0, 0, 0, 0],\n",
       "       [0, 0, 0, 0, 0, 0, 0, 0, 0, 0, 1, 0, 0, 0, 0, 0, 0, 0, 0, 0, 0, 0,\n",
       "        0, 0, 0, 0],\n",
       "       [0, 0, 0, 0, 0, 0, 0, 0, 0, 0, 0, 1, 0, 0, 0, 0, 0, 0, 0, 0, 0, 0,\n",
       "        0, 0, 0, 0],\n",
       "       [0, 0, 0, 0, 0, 0, 0, 0, 0, 0, 0, 0, 1, 0, 0, 0, 0, 0, 0, 0, 0, 0,\n",
       "        0, 0, 0, 0],\n",
       "       [0, 0, 0, 0, 0, 0, 0, 0, 0, 0, 0, 0, 0, 1, 0, 0, 0, 0, 0, 0, 0, 0,\n",
       "        0, 0, 0, 0],\n",
       "       [0, 0, 0, 0, 0, 0, 0, 0, 0, 0, 0, 0, 0, 0, 1, 0, 0, 0, 0, 0, 0, 0,\n",
       "        0, 0, 0, 0],\n",
       "       [0, 0, 0, 0, 0, 0, 0, 0, 0, 0, 0, 0, 0, 0, 0, 1, 0, 0, 0, 0, 0, 0,\n",
       "        0, 0, 0, 0],\n",
       "       [0, 0, 0, 0, 0, 0, 0, 0, 0, 0, 0, 0, 0, 0, 0, 0, 1, 0, 0, 0, 0, 0,\n",
       "        0, 0, 0, 0],\n",
       "       [0, 0, 0, 0, 0, 0, 0, 0, 0, 0, 0, 0, 0, 0, 0, 0, 0, 1, 0, 0, 0, 0,\n",
       "        0, 0, 0, 0],\n",
       "       [0, 0, 0, 0, 0, 0, 0, 0, 0, 0, 0, 0, 0, 0, 0, 0, 0, 0, 1, 0, 0, 0,\n",
       "        0, 0, 0, 0],\n",
       "       [0, 0, 0, 0, 0, 0, 0, 0, 0, 0, 0, 0, 0, 0, 0, 0, 0, 0, 0, 1, 0, 0,\n",
       "        0, 0, 0, 0],\n",
       "       [0, 0, 0, 0, 0, 0, 0, 0, 0, 0, 0, 0, 0, 0, 0, 0, 0, 0, 0, 0, 1, 0,\n",
       "        0, 0, 0, 0],\n",
       "       [0, 0, 0, 0, 0, 0, 0, 0, 0, 0, 0, 0, 0, 0, 0, 0, 0, 0, 0, 0, 0, 1,\n",
       "        0, 0, 0, 0],\n",
       "       [0, 0, 0, 0, 0, 0, 0, 0, 0, 0, 0, 0, 0, 0, 0, 0, 0, 0, 0, 0, 0, 0,\n",
       "        1, 0, 0, 0],\n",
       "       [0, 0, 0, 0, 0, 0, 0, 0, 0, 0, 0, 0, 0, 0, 0, 0, 0, 0, 0, 0, 0, 0,\n",
       "        0, 1, 0, 0],\n",
       "       [0, 0, 0, 0, 0, 0, 0, 0, 0, 0, 0, 0, 0, 0, 0, 0, 0, 0, 0, 0, 0, 0,\n",
       "        0, 0, 1, 0],\n",
       "       [0, 0, 0, 0, 0, 0, 0, 0, 0, 0, 0, 0, 0, 0, 0, 0, 0, 0, 0, 0, 0, 0,\n",
       "        0, 0, 0, 1]])"
      ]
     },
     "execution_count": 10,
     "metadata": {},
     "output_type": "execute_result"
    }
   ],
   "source": [
    "# Load data into dataframe\n",
    "training_data_folder = 'data/asl_alphabet_train/asl_alphabet_train'\n",
    "data = []\n",
    "\n",
    "for folder in sorted(os.listdir(training_data_folder)):\n",
    "    if (folder == 'del' or folder == 'nothing' or folder == 'space'):\n",
    "      continue\n",
    "    sub_folder = os.path.join(training_data_folder,folder)\n",
    "    print(folder)\n",
    "    files = [{'label':folder,'path':os.path.join(sub_folder, f)} for f in os.listdir(sub_folder) if os.path.isfile(os.path.join(sub_folder, f))]\n",
    "    data += files\n",
    "\n",
    "df = pd.DataFrame(data)\n",
    "\n",
    "map_characters = {0: 'A', 1: 'B', 2: 'C', 3: 'D', 4: 'E', 5: 'F', 6: 'G', 7: 'H', 8: 'I', 9: 'J', \n",
    "                  10: 'K', 11: 'L', 12: 'M', 13: 'N', 14: 'O', 15: 'P', 16: 'Q', 17: 'R', 18: 'S', \n",
    "                  19: 'T', 20: 'U', 21: 'V', 22: 'W', 23: 'X', 24: 'Y', 25: 'Z'}\n",
    "\n",
    "# map_characters\n",
    "order_list=('A',  'B',  'C', 'D', 'E',  'F', 'G', 'H',  'I',  'J', \n",
    "                   'K',  'L',  'M',  'N',  'O',  'P',  'Q',  'R',  'S', \n",
    "                 'T',  'U',  'V',  'W',  'X',  'Y',  'Z')\n",
    "\n",
    "from sklearn.preprocessing import LabelBinarizer\n",
    "lb=LabelBinarizer()\n",
    "hotEncodedLabels=lb.fit_transform(order_list)\n",
    "hotEncodedLabels"
   ]
  },
  {
   "cell_type": "code",
   "execution_count": 12,
   "metadata": {},
   "outputs": [],
   "source": [
    "\n",
    "train_dir=\"data/asl_alphabet_train/asl_alphabet_train\"\n",
    "\n",
    "map_characters = {0: 'A', 1: 'B', 2: 'C', 3: 'D', 4: 'E', 5: 'F', 6: 'G', 7: 'H', 8: 'I', 9: 'J', \n",
    "                  10: 'K', 11: 'L', 12: 'M', 13: 'N', 14: 'O', 15: 'P', 16: 'Q', 17: 'R', 18: 'S', \n",
    "                  19: 'T', 20: 'U', 21: 'V', 22: 'W', 23: 'X', 24: 'Y', 25: 'Z'}\n",
    "\n",
    "\n",
    "labels_dict = {'A':0,'B':1,'C':2,'D':3,'E':4,'F':5,'G':6,'H':7,'I':8,'J':9,'K':10,'L':11,'M':12,\n",
    "                   'N':13,'O':14,'P':15,'Q':16,'R':17,'S':18,'T':19,'U':20,'V':21,'W':22,'X':23,'Y':24,\n",
    "                   'Z':25}\n",
    "\n",
    "\n",
    "order_list=('A',  'B',  'C', 'D', 'E',  'F', 'G', 'H',  'I',  'J', \n",
    "                   'K',  'L',  'M',  'N',  'O',  'P',  'Q',  'R',  'S', \n",
    "                 'T',  'U',  'V',  'W',  'X',  'Y',  'Z')\n",
    "\n",
    "\n",
    "def load_data():\n",
    "    \"\"\"\n",
    "    Loads data and preprocess. Returns train and test data along with labels.\n",
    "    \"\"\"\n",
    "    images = []\n",
    "    labels = []\n",
    "    size = 64,64\n",
    "    num=0\n",
    "    print(\"LOADING DATA FROM : \",end = \"\")\n",
    "    for folder in os.listdir(train_dir):\n",
    "        if (folder == 'del' or folder == 'nothing' or folder == 'space'):\n",
    "          continue\n",
    "        print(folder, end = ' | ')\n",
    "        for image in os.listdir(train_dir + \"/\" + folder):\n",
    "            temp_img = cv2.imread(train_dir + '/' + folder + '/' + image)\n",
    "            temp_img = cv2.resize(temp_img, size)\n",
    "            # temp_img = temp_img.flatten()\n",
    "            images.append(temp_img)\n",
    "            labels.append(num)\n",
    "        num+=1\n",
    "    \n",
    "    images = np.array(images)\n",
    "    images = images.astype('float32')/255.0\n",
    "    \n",
    "    \n",
    "    X_train, X_test, Y_train, Y_test = train_test_split(images, labels, test_size = 0.3, random_state=42)\n",
    "    X_test, X_validation, Y_test, Y_validation = train_test_split(X_test, Y_test, test_size = 0.8,random_state=42)\n",
    "    \n",
    "    \n",
    "    print()\n",
    "    print('Loaded', len(X_train),'images for training,','Train data shape =',X_train.shape)\n",
    "    print('Loaded', len(X_validation),'images for validation','validation data shape =',X_validation.shape)\n",
    "    print('Loaded', len(X_test),'images for testing','Test data shape =',X_test.shape)\n",
    "\n",
    "    \n",
    "    return X_train, X_test, Y_train, Y_test, X_validation, Y_validation"
   ]
  },
  {
   "cell_type": "code",
   "execution_count": 13,
   "metadata": {},
   "outputs": [
    {
     "name": "stdout",
     "output_type": "stream",
     "text": [
      "LOADING DATA FROM : R | U | I | N | G | Z | T | S | A | F | O | H | M | J | C | D | V | Q | X | E | B | K | L | Y | P | W | \n",
      "Loaded 54600 images for training, Train data shape = (54600, 64, 64, 3)\n",
      "Loaded 18720 images for validation validation data shape = (18720, 64, 64, 3)\n",
      "Loaded 4680 images for testing Test data shape = (4680, 64, 64, 3)\n"
     ]
    }
   ],
   "source": [
    "X_train, X_test, Y_train, Y_test, X_validation, Y_validation= load_data()"
   ]
  },
  {
   "cell_type": "code",
   "execution_count": 14,
   "metadata": {},
   "outputs": [
    {
     "name": "stdout",
     "output_type": "stream",
     "text": [
      "Model: \"sequential\"\n",
      "_________________________________________________________________\n",
      " Layer (type)                Output Shape              Param #   \n",
      "=================================================================\n",
      " conv2d (Conv2D)             (None, 60, 60, 8)         608       \n",
      "                                                                 \n",
      " max_pooling2d (MaxPooling2  (None, 30, 30, 8)         0         \n",
      " D)                                                              \n",
      "                                                                 \n",
      " conv2d_1 (Conv2D)           (None, 26, 26, 16)        3216      \n",
      "                                                                 \n",
      " max_pooling2d_1 (MaxPoolin  (None, 13, 13, 16)        0         \n",
      " g2D)                                                            \n",
      "                                                                 \n",
      " conv2d_2 (Conv2D)           (None, 9, 9, 32)          12832     \n",
      "                                                                 \n",
      " max_pooling2d_2 (MaxPoolin  (None, 4, 4, 32)          0         \n",
      " g2D)                                                            \n",
      "                                                                 \n",
      " flatten (Flatten)           (None, 512)               0         \n",
      "                                                                 \n",
      " dense (Dense)               (None, 100)               51300     \n",
      "                                                                 \n",
      " dense_1 (Dense)             (None, 26)                2626      \n",
      "                                                                 \n",
      "=================================================================\n",
      "Total params: 70582 (275.71 KB)\n",
      "Trainable params: 70582 (275.71 KB)\n",
      "Non-trainable params: 0 (0.00 Byte)\n",
      "_________________________________________________________________\n",
      "None\n"
     ]
    }
   ],
   "source": [
    "with tf.device('/CPU:0'):\n",
    "    model = keras.models.Sequential()\n",
    "   \n",
    "    model.add(layers.Conv2D(8,(5,5), strides=(1,1), padding=\"valid\", activation='relu', input_shape=(64,64,3)))\n",
    "    model.add(layers.MaxPool2D((2,2)))\n",
    "    model.add(layers.Conv2D(16, 5, activation='relu'))\n",
    "    model.add(layers.MaxPool2D((2,2)))\n",
    "    model.add(layers.Conv2D(32,5, activation='relu'))\n",
    "    model.add(layers.MaxPool2D((2,2)))\n",
    "    model.add(layers.Flatten())\n",
    "    model.add(layers.Dense(100, activation='relu'))\n",
    "    model.add(layers.Dense(26))\n",
    "    print(model.summary())"
   ]
  },
  {
   "cell_type": "code",
   "execution_count": 15,
   "metadata": {},
   "outputs": [
    {
     "name": "stderr",
     "output_type": "stream",
     "text": [
      "WARNING:absl:At this time, the v2.11+ optimizer `tf.keras.optimizers.Adam` runs slowly on M1/M2 Macs, please use the legacy Keras optimizer instead, located at `tf.keras.optimizers.legacy.Adam`.\n",
      "WARNING:absl:`lr` is deprecated in Keras optimizer, please use `learning_rate` or use the legacy optimizer, e.g.,tf.keras.optimizers.legacy.Adam.\n"
     ]
    }
   ],
   "source": [
    "with tf.device('/CPU:0'):\n",
    "    # loss and optimizer\n",
    "    loss = keras.losses.SparseCategoricalCrossentropy(from_logits=True)\n",
    "    optim = keras.optimizers.Adam(lr=0.001)\n",
    "    metrics = [\"accuracy\"]"
   ]
  },
  {
   "cell_type": "code",
   "execution_count": 16,
   "metadata": {},
   "outputs": [
    {
     "name": "stderr",
     "output_type": "stream",
     "text": [
      "WARNING:absl:There is a known slowdown when using v2.11+ Keras optimizers on M1/M2 Macs. Falling back to the legacy Keras optimizer, i.e., `tf.keras.optimizers.legacy.Adam`.\n"
     ]
    }
   ],
   "source": [
    "\n",
    "with tf.device('/CPU:0'):\n",
    "    model.compile(optimizer=optim, loss=loss, metrics=metrics)"
   ]
  },
  {
   "cell_type": "code",
   "execution_count": 17,
   "metadata": {},
   "outputs": [
    {
     "name": "stdout",
     "output_type": "stream",
     "text": [
      "Epoch 1/30\n",
      "5460/5460 - 35s - loss: 0.8614 - accuracy: 0.7275 - 35s/epoch - 6ms/step\n",
      "Epoch 2/30\n",
      "5460/5460 - 34s - loss: 0.1708 - accuracy: 0.9449 - 34s/epoch - 6ms/step\n",
      "Epoch 3/30\n",
      "5460/5460 - 34s - loss: 0.1043 - accuracy: 0.9670 - 34s/epoch - 6ms/step\n",
      "Epoch 4/30\n",
      "5460/5460 - 34s - loss: 0.0861 - accuracy: 0.9732 - 34s/epoch - 6ms/step\n",
      "Epoch 5/30\n",
      "5460/5460 - 34s - loss: 0.0689 - accuracy: 0.9795 - 34s/epoch - 6ms/step\n",
      "Epoch 6/30\n",
      "5460/5460 - 34s - loss: 0.0605 - accuracy: 0.9822 - 34s/epoch - 6ms/step\n",
      "Epoch 7/30\n",
      "5460/5460 - 33s - loss: 0.0599 - accuracy: 0.9831 - 33s/epoch - 6ms/step\n",
      "Epoch 8/30\n",
      "5460/5460 - 33s - loss: 0.0586 - accuracy: 0.9840 - 33s/epoch - 6ms/step\n",
      "Epoch 9/30\n",
      "5460/5460 - 33s - loss: 0.0544 - accuracy: 0.9850 - 33s/epoch - 6ms/step\n",
      "Epoch 10/30\n",
      "5460/5460 - 33s - loss: 0.0506 - accuracy: 0.9868 - 33s/epoch - 6ms/step\n",
      "Epoch 11/30\n",
      "5460/5460 - 33s - loss: 0.0500 - accuracy: 0.9874 - 33s/epoch - 6ms/step\n",
      "Epoch 12/30\n",
      "5460/5460 - 33s - loss: 0.0504 - accuracy: 0.9871 - 33s/epoch - 6ms/step\n",
      "Epoch 13/30\n",
      "5460/5460 - 33s - loss: 0.0426 - accuracy: 0.9893 - 33s/epoch - 6ms/step\n",
      "Epoch 14/30\n",
      "5460/5460 - 32s - loss: 0.0491 - accuracy: 0.9886 - 32s/epoch - 6ms/step\n",
      "Epoch 15/30\n",
      "5460/5460 - 32s - loss: 0.0462 - accuracy: 0.9891 - 32s/epoch - 6ms/step\n",
      "Epoch 16/30\n",
      "5460/5460 - 33s - loss: 0.0509 - accuracy: 0.9890 - 33s/epoch - 6ms/step\n",
      "Epoch 17/30\n",
      "5460/5460 - 32s - loss: 0.0580 - accuracy: 0.9881 - 32s/epoch - 6ms/step\n",
      "Epoch 18/30\n",
      "5460/5460 - 33s - loss: 0.0516 - accuracy: 0.9902 - 33s/epoch - 6ms/step\n",
      "Epoch 19/30\n",
      "5460/5460 - 33s - loss: 0.0452 - accuracy: 0.9908 - 33s/epoch - 6ms/step\n",
      "Epoch 20/30\n",
      "5460/5460 - 33s - loss: 0.0546 - accuracy: 0.9896 - 33s/epoch - 6ms/step\n",
      "Epoch 21/30\n",
      "5460/5460 - 33s - loss: 0.0442 - accuracy: 0.9912 - 33s/epoch - 6ms/step\n",
      "Epoch 22/30\n",
      "5460/5460 - 33s - loss: 0.0476 - accuracy: 0.9908 - 33s/epoch - 6ms/step\n",
      "Epoch 23/30\n",
      "5460/5460 - 33s - loss: 0.0501 - accuracy: 0.9911 - 33s/epoch - 6ms/step\n",
      "Epoch 24/30\n",
      "5460/5460 - 33s - loss: 0.0507 - accuracy: 0.9910 - 33s/epoch - 6ms/step\n",
      "Epoch 25/30\n",
      "5460/5460 - 33s - loss: 0.0459 - accuracy: 0.9926 - 33s/epoch - 6ms/step\n",
      "Epoch 26/30\n",
      "5460/5460 - 33s - loss: 0.0559 - accuracy: 0.9915 - 33s/epoch - 6ms/step\n",
      "Epoch 27/30\n",
      "5460/5460 - 32s - loss: 0.0511 - accuracy: 0.9919 - 32s/epoch - 6ms/step\n",
      "Epoch 28/30\n",
      "5460/5460 - 33s - loss: 0.0612 - accuracy: 0.9910 - 33s/epoch - 6ms/step\n",
      "Epoch 29/30\n",
      "5460/5460 - 33s - loss: 0.0573 - accuracy: 0.9924 - 33s/epoch - 6ms/step\n",
      "Epoch 30/30\n",
      "5460/5460 - 33s - loss: 0.0565 - accuracy: 0.9923 - 33s/epoch - 6ms/step\n",
      "eval\n",
      "1872/1872 - 4s - loss: 0.0978 - accuracy: 0.9879 - 4s/epoch - 2ms/step\n"
     ]
    },
    {
     "name": "stderr",
     "output_type": "stream",
     "text": [
      "WARNING:absl:At this time, the v2.11+ optimizer `tf.keras.optimizers.Adam` runs slowly on M1/M2 Macs, please use the legacy Keras optimizer instead, located at `tf.keras.optimizers.legacy.Adam`.\n",
      "WARNING:absl:`lr` is deprecated in Keras optimizer, please use `learning_rate` or use the legacy optimizer, e.g.,tf.keras.optimizers.legacy.Adam.\n"
     ]
    },
    {
     "name": "stdout",
     "output_type": "stream",
     "text": [
      "Epoch 1/15\n",
      "5460/5460 - 33s - loss: 0.0531 - accuracy: 0.9923 - 33s/epoch - 6ms/step\n",
      "Epoch 2/15\n",
      "5460/5460 - 33s - loss: 0.0600 - accuracy: 0.9923 - 33s/epoch - 6ms/step\n",
      "Epoch 3/15\n",
      "5460/5460 - 33s - loss: 0.0577 - accuracy: 0.9931 - 33s/epoch - 6ms/step\n",
      "Epoch 4/15\n",
      "5460/5460 - 32s - loss: 0.0662 - accuracy: 0.9925 - 32s/epoch - 6ms/step\n",
      "Epoch 5/15\n",
      "5460/5460 - 33s - loss: 0.0594 - accuracy: 0.9934 - 33s/epoch - 6ms/step\n",
      "Epoch 6/15\n",
      "5460/5460 - 33s - loss: 0.0579 - accuracy: 0.9929 - 33s/epoch - 6ms/step\n",
      "Epoch 7/15\n",
      "5460/5460 - 33s - loss: 0.0585 - accuracy: 0.9930 - 33s/epoch - 6ms/step\n",
      "Epoch 8/15\n",
      "5460/5460 - 33s - loss: 0.0637 - accuracy: 0.9932 - 33s/epoch - 6ms/step\n",
      "Epoch 9/15\n",
      "5460/5460 - 33s - loss: 0.0690 - accuracy: 0.9934 - 33s/epoch - 6ms/step\n",
      "Epoch 10/15\n",
      "5460/5460 - 34s - loss: 0.0714 - accuracy: 0.9934 - 34s/epoch - 6ms/step\n",
      "Epoch 11/15\n",
      "5460/5460 - 32s - loss: 0.0695 - accuracy: 0.9933 - 32s/epoch - 6ms/step\n",
      "Epoch 12/15\n",
      "5460/5460 - 33s - loss: 0.0662 - accuracy: 0.9940 - 33s/epoch - 6ms/step\n",
      "Epoch 13/15\n",
      "5460/5460 - 32s - loss: 0.0642 - accuracy: 0.9940 - 32s/epoch - 6ms/step\n",
      "Epoch 14/15\n",
      "5460/5460 - 33s - loss: 0.0716 - accuracy: 0.9936 - 33s/epoch - 6ms/step\n",
      "Epoch 15/15\n",
      "5460/5460 - 33s - loss: 0.0622 - accuracy: 0.9940 - 33s/epoch - 6ms/step\n",
      "eval\n",
      "1872/1872 - 4s - loss: 0.1066 - accuracy: 0.9908 - 4s/epoch - 2ms/step\n"
     ]
    }
   ],
   "source": [
    "with tf.device('/CPU:0'):\n",
    "    data_x=np.array(X_train)\n",
    "    data_y=np.array(Y_train)\n",
    "\n",
    "    val_x=np.array(X_validation)\n",
    "    val_y=np.array(Y_validation)\n",
    "\n",
    "    # training\n",
    "    batch_size = 10\n",
    "    epochs = 30\n",
    "    model.fit(data_x, data_y, epochs=epochs, batch_size=batch_size, verbose=2)\n",
    "    print(\"eval\")\n",
    "    model.evaluate(val_x,  val_y, batch_size=batch_size, verbose=2)\n",
    "    \n",
    "    epochs = 15\n",
    "    optim = keras.optimizers.Adam(lr=0.0001)\n",
    "    model.fit(data_x, data_y, epochs=epochs, batch_size=batch_size, verbose=2)\n",
    "    print(\"eval\")\n",
    "    model.evaluate(val_x,  val_y, batch_size=batch_size, verbose=2)\n",
    "\n",
    "    # evaulate"
   ]
  },
  {
   "cell_type": "code",
   "execution_count": 18,
   "metadata": {},
   "outputs": [
    {
     "name": "stdout",
     "output_type": "stream",
     "text": [
      "test\n",
      "147/147 - 1s - loss: 0.0783 - accuracy: 0.9921 - 783ms/epoch - 5ms/step\n",
      "147/147 [==============================] - 1s 4ms/step\n"
     ]
    }
   ],
   "source": [
    "with tf.device('/CPU:0'):\n",
    "    \n",
    "    test_x=np.array(X_test)\n",
    "    test_y=np.array(Y_test)\n",
    "    \n",
    "    \n",
    "    print(\"test\")\n",
    "    \n",
    "    model.evaluate(test_x,  test_y,verbose=2)\n",
    "    mypred=model.predict(test_x)\n",
    "    mypred=mypred.argmax(axis=1)"
   ]
  },
  {
   "cell_type": "code",
   "execution_count": 19,
   "metadata": {},
   "outputs": [
    {
     "data": {
      "image/png": "[encoded data removed]",
      "text/plain": [
       "<Figure size 1000x1000 with 2 Axes>"
      ]
     },
     "metadata": {},
     "output_type": "display_data"
    }
   ],
   "source": [
    "from sklearn.metrics import confusion_matrix\n",
    "import seaborn as sns\n",
    "import matplotlib.pyplot as plt\n",
    "# function to make pretty confusion matrix\n",
    "def confussion_matrix(cf_matrix):\n",
    "    plt.figure(figsize=(10,10))\n",
    "    sns.heatmap(cf_matrix, annot=True, fmt='', cmap='Greens')\n",
    "\n",
    "\n",
    "\n",
    "\n",
    "\n",
    "\n",
    "# create the cunfusion matrix\n",
    "confussion_matrix(confusion_matrix(test_y,mypred))"
   ]
  },
  {
   "cell_type": "code",
   "execution_count": 20,
   "metadata": {},
   "outputs": [
    {
     "name": "stdout",
     "output_type": "stream",
     "text": [
      "Accuracy score :  0.9920940170940171\n",
      "Precision score :  0.9921614768714149\n",
      "Recall score :  0.9920940170940171\n",
      "F1 score :  0.9920997618401831\n"
     ]
    }
   ],
   "source": [
    "from sklearn.metrics import accuracy_score, precision_score, recall_score, f1_score\n",
    "with tf.device('/CPU:0'):\n",
    "  print('Accuracy score : ', accuracy_score(Y_test, mypred))\n",
    "  print('Precision score : ', precision_score(Y_test, mypred, average='weighted'))\n",
    "  print('Recall score : ',recall_score(Y_test,mypred, average='weighted'))\n",
    "  print('F1 score : ', f1_score(Y_test,mypred, average='weighted'))"
   ]
  },
  {
   "cell_type": "code",
   "execution_count": 21,
   "metadata": {},
   "outputs": [
    {
     "name": "stdout",
     "output_type": "stream",
     "text": [
      "              precision    recall  f1-score   support\n",
      "\n",
      "           0       0.98      0.99      0.98       160\n",
      "           1       0.98      0.98      0.98       177\n",
      "           2       1.00      0.99      1.00       188\n",
      "           3       1.00      0.99      1.00       186\n",
      "           4       0.99      1.00      1.00       179\n",
      "           5       0.99      1.00      1.00       184\n",
      "           6       0.99      0.97      0.98       193\n",
      "           7       0.97      0.98      0.97       180\n",
      "           8       0.99      0.99      0.99       200\n",
      "           9       1.00      0.99      1.00       184\n",
      "          10       1.00      0.98      0.99       199\n",
      "          11       0.99      1.00      1.00       177\n",
      "          12       0.99      0.99      0.99       179\n",
      "          13       1.00      1.00      1.00       181\n",
      "          14       1.00      0.99      0.99       186\n",
      "          15       0.97      1.00      0.99       170\n",
      "          16       0.99      0.98      0.99       188\n",
      "          17       0.99      1.00      1.00       177\n",
      "          18       0.98      0.99      0.99       180\n",
      "          19       0.99      0.99      0.99       184\n",
      "          20       0.99      0.99      0.99       183\n",
      "          21       0.99      0.99      0.99       162\n",
      "          22       1.00      1.00      1.00       179\n",
      "          23       0.99      1.00      1.00       173\n",
      "          24       1.00      0.99      0.99       161\n",
      "          25       0.99      0.99      0.99       170\n",
      "\n",
      "    accuracy                           0.99      4680\n",
      "   macro avg       0.99      0.99      0.99      4680\n",
      "weighted avg       0.99      0.99      0.99      4680\n",
      "\n"
     ]
    }
   ],
   "source": [
    "from sklearn.metrics import classification_report\n",
    "with tf.device('/CPU:0'):\n",
    "  print(classification_report(Y_test,mypred))"
   ]
  }
 ],
 "metadata": {
  "kernelspec": {
   "display_name": "Python 3",
   "language": "python",
   "name": "python3"
  },
  "language_info": {
   "codemirror_mode": {
    "name": "ipython",
    "version": 3
   },
   "file_extension": ".py",
   "mimetype": "text/x-python",
   "name": "python",
   "nbconvert_exporter": "python",
   "pygments_lexer": "ipython3",
   "version": "3.11.3"
  },
  "orig_nbformat": 4
 },
 "nbformat": 4,
 "nbformat_minor": 2
}
