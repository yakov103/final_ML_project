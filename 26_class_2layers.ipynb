{
  "cells": [
    {
      "cell_type": "code",
      "execution_count": 2,
      "metadata": {
        "colab": {
          "base_uri": "https://localhost:8080/"
        },
        "id": "fPCIU1KpzSJP",
        "outputId": "a8a064f1-5704-4790-e647-ba3ce9318500"
      },
      "outputs": [
        {
          "output_type": "stream",
          "name": "stdout",
          "text": [
            "Drive already mounted at /content/drive; to attempt to forcibly remount, call drive.mount(\"/content/drive\", force_remount=True).\n"
          ]
        }
      ],
      "source": [
        "from google.colab import drive\n",
        "drive.mount('/content/drive')\n"
      ]
    },
    {
      "cell_type": "code",
      "execution_count": 3,
      "metadata": {
        "colab": {
          "base_uri": "https://localhost:8080/"
        },
        "id": "oK_6GUkt2Do-",
        "outputId": "4085a6ce-ece9-44c6-d8a0-99b5446eaf29"
      },
      "outputs": [
        {
          "output_type": "stream",
          "name": "stdout",
          "text": [
            "/content/drive/MyDrive/Colab Notebooks\n"
          ]
        }
      ],
      "source": [
        "%cd drive/MyDrive/Colab Notebooks"
      ]
    },
    {
      "cell_type": "code",
      "execution_count": 4,
      "metadata": {
        "id": "XJavin0WykpJ",
        "colab": {
          "base_uri": "https://localhost:8080/"
        },
        "outputId": "d8fca09f-efa9-48f3-fe29-783afed48bf9"
      },
      "outputs": [
        {
          "output_type": "stream",
          "name": "stderr",
          "text": [
            "WARNING:tensorflow:From /usr/local/lib/python3.8/dist-packages/tensorflow/python/compat/v2_compat.py:107: disable_resource_variables (from tensorflow.python.ops.variable_scope) is deprecated and will be removed in a future version.\n",
            "Instructions for updating:\n",
            "non-resource variables are not supported in the long term\n"
          ]
        }
      ],
      "source": [
        "import numpy as np\n",
        "import pandas as pd\n",
        "import matplotlib.pyplot as plt \n",
        "import seaborn as sns\n",
        "import os\n",
        "import random\n",
        "import cv2\n",
        "from sklearn.model_selection import train_test_split\n",
        "\n",
        "np.random.seed(0)\n",
        "\n",
        "from sklearn.metrics import confusion_matrix\n",
        "from sklearn.preprocessing import LabelBinarizer\n",
        "\n",
        "import tensorflow.compat.v1 as tf\n",
        "tf.disable_v2_behavior()"
      ]
    },
    {
      "cell_type": "code",
      "execution_count": 5,
      "metadata": {
        "id": "vwt_wr5hykpN"
      },
      "outputs": [],
      "source": [
        "# with tf.device('/CPU:0'):\n",
        "\n",
        "map_characters = {0: 'A', 1: 'B', 2: 'C', 3: 'D', 4: 'E', 5: 'F', 6: 'G', 7: 'H', 8: 'I', 9: 'J', \n",
        "                10: 'K', 11: 'L', 12: 'M', 13: 'N', 14: 'O', 15: 'P', 16: 'Q', 17: 'R', 18: 'S', \n",
        "                19: 'T', 20: 'U', 21: 'V', 22: 'W', 23: 'X', 24: 'Y', 25: 'Z'}\n",
        "\n",
        "\n",
        "labels_dict = {'A':0,'B':1,'C':2,'D':3,'E':4,'F':5,'G':6,'H':7,'I':8,'J':9,'K':10,'L':11,'M':12,\n",
        "                'N':13,'O':14,'P':15,'Q':16,'R':17,'S':18,'T':19,'U':20,'V':21,'W':22,'X':23,'Y':24,\n",
        "                'Z':25}\n",
        "\n",
        "\n",
        "order_list=('A',  'B',  'C', 'D', 'E',  'F', 'G', 'H',  'I',  'J', \n",
        "                'K',  'L',  'M',  'N',  'O',  'P',  'Q',  'R',  'S', \n",
        "                'T',  'U',  'V',  'W',  'X',  'Y',  'Z')\n",
        "\n",
        "\n",
        "\n",
        "\n",
        "lb=LabelBinarizer()\n",
        "hotEncodedLabels=lb.fit_transform(order_list)\n",
        "\n",
        "\n",
        "\n",
        "\n",
        "train_dir=\"asl_alphabet_train/asl_alphabet_train\"\n",
        "\n",
        "def load_data():\n",
        "    \"\"\"\n",
        "    Loads data and preprocess. Returns train and test data along with labels.\n",
        "    \"\"\"\n",
        "    images = []\n",
        "    labels = []\n",
        "    size = 64,64\n",
        "    print(\"LOADING DATA FROM : \",end = \"\")\n",
        "    for folder in os.listdir(train_dir):\n",
        "        print(folder, end = ' | ')\n",
        "        for image in os.listdir(train_dir + \"/\" + folder):\n",
        "                temp_img = cv2.imread(train_dir + '/' + folder + '/' + image, 0) # greyscale\n",
        "                temp_img = cv2.resize(temp_img, size)\n",
        "                temp_img = temp_img.flatten()\n",
        "                images.append(temp_img)\n",
        "                labels.append(hotEncodedLabels[labels_dict[folder]])\n",
        "            \n",
        "    \n",
        "    images = np.array(images)\n",
        "    images = images.astype('float32')/255.0\n",
        "    \n",
        "    \n",
        "    X_train, X_test, Y_train, Y_test = train_test_split(images, labels, test_size = 0.3, random_state=42)\n",
        "    X_test, X_validation, Y_test, Y_validation = train_test_split(X_test, Y_test, test_size = 0.8,random_state=42)\n",
        "    \n",
        "    \n",
        "    print()\n",
        "    print('Loaded', len(X_train),'images for training,','Train data shape =',X_train.shape)\n",
        "    print('Loaded', len(X_validation),'images for validation','validation data shape =',X_validation.shape)\n",
        "    print('Loaded', len(X_test),'images for testing','Test data shape =',X_test.shape)\n",
        "\n",
        "    \n",
        "    return X_train, X_test, Y_train, Y_test, X_validation, Y_validation\n",
        "\n",
        "def confussion_matrix(cf_matrix):\n",
        "    plt.figure(figsize=(10,10))\n",
        "    sns.heatmap(cf_matrix, annot=True, fmt='', cmap='Greens')"
      ]
    },
    {
      "cell_type": "code",
      "execution_count": 6,
      "metadata": {
        "colab": {
          "base_uri": "https://localhost:8080/"
        },
        "id": "vD36xmfKykpP",
        "outputId": "1376921b-a36c-4bd1-8e9e-72f1893c2a36"
      },
      "outputs": [
        {
          "output_type": "stream",
          "name": "stdout",
          "text": [
            "LOADING DATA FROM : U | R | N | I | Z | G | T | S | F | H | M | A | O | C | J | V | D | P | Q | Y | B | X | K | L | E | W | \n",
            "Loaded 54614 images for training, Train data shape = (54614, 4096)\n",
            "Loaded 18726 images for validation validation data shape = (18726, 4096)\n",
            "Loaded 4681 images for testing Test data shape = (4681, 4096)\n",
            "54614\n",
            "18726\n",
            "4681\n"
          ]
        }
      ],
      "source": [
        "# with tf.device('/CPU:0'):\n",
        "X_train, X_test, Y_train, Y_test, X_validation, Y_validation= load_data()\n",
        "\n",
        "\n",
        "print(len(X_train))\n",
        "print(len(X_validation))\n",
        "print(len(X_test))"
      ]
    },
    {
      "cell_type": "code",
      "execution_count": null,
      "metadata": {
        "colab": {
          "base_uri": "https://localhost:8080/"
        },
        "id": "xZPciJJEykpR",
        "outputId": "f7afa097-93dd-4910-b86e-05758bcd5b11"
      },
      "outputs": [
        {
          "name": "stdout",
          "output_type": "stream",
          "text": [
            "26_class_5layers.ipynb  \u001b[0m\u001b[01;34masl_alphabet_train\u001b[0m/  Untitled0.ipynb\n",
            "\u001b[01;34masl_alphabet_test\u001b[0m/      Untitled\n"
          ]
        }
      ],
      "source": []
    },
    {
      "cell_type": "code",
      "execution_count": null,
      "metadata": {
        "id": "4IBk_kevykpR"
      },
      "outputs": [],
      "source": []
    },
    {
      "cell_type": "code",
      "execution_count": null,
      "metadata": {
        "id": "TTqkUHZoykpS"
      },
      "outputs": [],
      "source": [
        "\n"
      ]
    },
    {
      "cell_type": "code",
      "execution_count": null,
      "metadata": {
        "id": "oI8mXQ68ykpT"
      },
      "outputs": [],
      "source": []
    },
    {
      "cell_type": "code",
      "execution_count": null,
      "metadata": {
        "id": "R-g4lT2vykpT"
      },
      "outputs": [],
      "source": [
        "# with tf.device('/CPU:0'):\n",
        "#     y_tr=[]\n",
        "#     for i in Y_train:\n",
        "#         y_tr.append(i.tolist())\n",
        "#     y_train_t=tf.convert_to_tensor(\n",
        "#         y_tr, dtype=None, dtype_hint=None, name=None\n",
        "#     )\n",
        "\n",
        "#     X_tr=[]\n",
        "#     for i in X_train:\n",
        "#         X_tr.append(i.tolist())\n",
        "#     X_train_t=tf.convert_to_tensor(\n",
        "#         X_tr, dtype=None, dtype_hint=None, name=None\n",
        "#     )\n",
        "\n",
        "#     y_vald=[]\n",
        "#     for i in Y_validation:\n",
        "#         y_vald.append(i.tolist())\n",
        "#     y_vald_t=tf.convert_to_tensor(\n",
        "#         y_vald, dtype=None, dtype_hint=None, name=None\n",
        "#     )"
      ]
    },
    {
      "cell_type": "code",
      "execution_count": 9,
      "metadata": {
        "colab": {
          "base_uri": "https://localhost:8080/"
        },
        "id": "dnLL1a2cykpU",
        "outputId": "f31bf851-5b56-4fc7-92ac-f64903d6e662"
      },
      "outputs": [
        {
          "output_type": "stream",
          "name": "stdout",
          "text": [
            "start\n",
            "0  this epoch accuracy:  0.042828154  best accuracy seen when checked  0.042828154\n",
            "1000  this epoch accuracy:  0.23032148  best accuracy seen when checked  0.23032148\n",
            "2000  this epoch accuracy:  0.3168322  best accuracy seen when checked  0.3168322\n",
            "3000  this epoch accuracy:  0.37119514  best accuracy seen when checked  0.37119514\n",
            "4000  this epoch accuracy:  0.4201111  best accuracy seen when checked  0.4201111\n",
            "5000  this epoch accuracy:  0.45994875  best accuracy seen when checked  0.45994875\n",
            "6000  this epoch accuracy:  0.49012068  best accuracy seen when checked  0.49012068\n",
            "7000  this epoch accuracy:  0.51778275  best accuracy seen when checked  0.51778275\n",
            "8000  this epoch accuracy:  0.543202  best accuracy seen when checked  0.543202\n",
            "9000  this epoch accuracy:  0.5634412  best accuracy seen when checked  0.5634412\n",
            "10000  this epoch accuracy:  0.582292  best accuracy seen when checked  0.582292\n",
            "11000  this epoch accuracy:  0.5996475  best accuracy seen when checked  0.5996475\n",
            "12000  this epoch accuracy:  0.61374557  best accuracy seen when checked  0.61374557\n",
            "13000  this epoch accuracy:  0.62875146  best accuracy seen when checked  0.62875146\n",
            "14000  this epoch accuracy:  0.6429563  best accuracy seen when checked  0.6429563\n",
            "15000  this epoch accuracy:  0.6545445  best accuracy seen when checked  0.6545445\n",
            "16000  this epoch accuracy:  0.66634625  best accuracy seen when checked  0.66634625\n",
            "17000  this epoch accuracy:  0.6768664  best accuracy seen when checked  0.6768664\n",
            "18000  this epoch accuracy:  0.6865321  best accuracy seen when checked  0.6865321\n",
            "19000  this epoch accuracy:  0.69571716  best accuracy seen when checked  0.69571716\n",
            "20000  this epoch accuracy:  0.7047955  best accuracy seen when checked  0.7047955\n",
            "21000  this epoch accuracy:  0.71349996  best accuracy seen when checked  0.71349996\n",
            "22000  this epoch accuracy:  0.71974796  best accuracy seen when checked  0.71974796\n",
            "23000  this epoch accuracy:  0.7277048  best accuracy seen when checked  0.7277048\n",
            "24000  this epoch accuracy:  0.7341664  best accuracy seen when checked  0.7341664\n",
            "25000  this epoch accuracy:  0.73950654  best accuracy seen when checked  0.73950654\n",
            "26000  this epoch accuracy:  0.74650216  best accuracy seen when checked  0.74650216\n",
            "27000  this epoch accuracy:  0.7525366  best accuracy seen when checked  0.7525366\n",
            "28000  this epoch accuracy:  0.75787675  best accuracy seen when checked  0.75787675\n",
            "29000  this epoch accuracy:  0.7638043  best accuracy seen when checked  0.7638043\n"
          ]
        }
      ],
      "source": [
        "# with tf.device('/CPU:0'):\n",
        "acc=0\n",
        "\n",
        "\n",
        "\n",
        "\n",
        "\n",
        "(hidden1_size, hidden2_size) = (1040, 520)\n",
        "x = tf.placeholder(tf.float32, [None, 4096])\n",
        "y_ = tf.placeholder(tf.float32, [None, 26])\n",
        "\n",
        "W1 = tf.Variable(tf.truncated_normal([4096, hidden1_size], stddev=0.1))\n",
        "b1 = tf.Variable(tf.constant(0.1, shape=[hidden1_size]))\n",
        "z1 = tf.nn.relu(tf.matmul(x,W1)+b1)\n",
        "\n",
        "W2 = tf.Variable(tf.truncated_normal([hidden1_size, hidden2_size], stddev=0.1))\n",
        "b2 = tf.Variable(tf.constant(0.1, shape=[hidden2_size]))\n",
        "z2 = tf.nn.relu(tf.matmul(z1,W2)+b2)\n",
        "\n",
        "W3 = tf.Variable(tf.truncated_normal([hidden2_size, 26], stddev=0.1))\n",
        "b3 = tf.Variable(tf.constant(0.1, shape=[26]))\n",
        "\n",
        "\n",
        "\n",
        "pred = tf.nn.softmax(tf.matmul(z2, W3)+b3)\n",
        "cross_entropy = tf.reduce_mean(-tf.reduce_sum(y_ * tf.log(pred), reduction_indices=[1]))\n",
        "train_step = tf.train.GradientDescentOptimizer(0.001).minimize(cross_entropy)\n",
        "\n",
        "\n",
        "data_x=np.array(X_train)\n",
        "data_y=np.array(Y_train)  \n",
        "data_arr_x=[data_x[0::5],data_x[1::5],data_x[2::5],data_x[3::5],data_x[4::5]]\n",
        "data_arr_y=[data_y[0::5],data_y[1::5],data_y[2::5],data_y[3::5],data_y[4::5]]\n",
        "\n",
        "\n",
        "sess1 = tf.Session()\n",
        "sess1.run(tf.global_variables_initializer())\n",
        "\n",
        "correct_prediction = tf.equal(tf.argmax(pred,1), tf.argmax(y_,1))\n",
        "accuracy = tf.reduce_mean(tf.cast(correct_prediction, tf.float32))\n",
        "\n",
        "print(\"start\")\n",
        "for i in range (30000):\n",
        "    sess1.run(train_step, feed_dict={x: X_train, y_: Y_train})\n",
        "    if i % 1000 == 0 :\n",
        "    # print(i, sess1.run(accuracy, feed_dict={x: X_validation, y_: Y_validation}))\n",
        "      acc1=sess1.run(accuracy, feed_dict={x: X_validation, y_: Y_validation})\n",
        "      acc=max(acc,acc1)\n",
        "      print(i,\" this epoch accuracy: \",acc1,\" best accuracy seen when checked \", acc)\n",
        "\n",
        "\n",
        "        \n"
      ]
    },
    {
      "cell_type": "code",
      "execution_count": null,
      "metadata": {
        "id": "H4GGVWO8ykpV"
      },
      "outputs": [],
      "source": [
        "# # with tf.device('/CPU:0'):\n",
        "# y_tr=[]\n",
        "# for i in Y_train:\n",
        "#     y_tr.append(i.tolist())\n",
        "# y_train_t=tf.convert_to_tensor(\n",
        "#     y_tr, dtype=None, dtype_hint=None, name=None\n",
        "# )\n",
        "\n",
        "# X_tr=[]\n",
        "# for i in X_train:\n",
        "#     X_tr.append(i.tolist())\n",
        "# X_train_t=tf.convert_to_tensor(\n",
        "#     X_tr, dtype=None, dtype_hint=None, name=None\n",
        "# )\n",
        "\n"
      ]
    },
    {
      "cell_type": "code",
      "execution_count": 12,
      "metadata": {
        "colab": {
          "base_uri": "https://localhost:8080/",
          "height": 609
        },
        "id": "BAQTyg4DykpV",
        "outputId": "9e5206c2-4a40-4c62-cd68-72098cfb5250"
      },
      "outputs": [
        {
          "output_type": "stream",
          "name": "stdout",
          "text": [
            "0.7754753\n"
          ]
        },
        {
          "output_type": "display_data",
          "data": {
            "text/plain": [
              "<Figure size 720x720 with 2 Axes>"
            ],
            "image/png": "[encoded data removed]"
          },
          "metadata": {
            "needs_background": "light"
          }
        }
      ],
      "source": [
        "from sklearn.metrics import confusion_matrix\n",
        "import seaborn as sns\n",
        "import matplotlib.pyplot as plt\n",
        "# function to make pretty confusion matrix\n",
        "def confussion_matrix(cf_matrix):\n",
        "    plt.figure(figsize=(10,10))\n",
        "    sns.heatmap(cf_matrix, annot=True, fmt='', cmap='Greens')\n",
        "\n",
        "# make a tensor with the y validation \n",
        "y_vald=[]\n",
        "for i in Y_test:\n",
        "    y_vald.append(i.tolist())\n",
        "y_vald_t=tf.convert_to_tensor(\n",
        "    y_vald, dtype=None, dtype_hint=None, name=None\n",
        ")\n",
        "\n",
        "\n",
        "# get the prediction foe x validation\n",
        "\n",
        "mypred=sess1.run(pred,feed_dict={x: X_test, y_: Y_test})\n",
        "\n",
        "\n",
        "# check accuracy\n",
        "correct_prediction1 = tf.equal(tf.argmax(mypred,1), tf.argmax(y_vald_t,1))\n",
        "accuracy1 = tf.reduce_mean(tf.cast(correct_prediction1, tf.float32))\n",
        "print(sess1.run(accuracy1))\n",
        "\n",
        "\n",
        "# take mypred change to a list then to a tensor\n",
        "mypred_l=[]\n",
        "for i in mypred:\n",
        "    mypred_l.append(i.tolist())\n",
        "\n",
        "mypred_t=tf.convert_to_tensor(\n",
        "    mypred_l, dtype=None, dtype_hint=None, name=None\n",
        ")\n",
        "\n",
        "\n",
        "# create a list with the pred class\n",
        "pred_confussion_matrix=[]\n",
        "for i in sess1.run(mypred_t):\n",
        "    pred_confussion_matrix.append( np.argmax(i))\n",
        "\n",
        "# create a list with the actual class\n",
        "Y_validation_confussion_matrix=[]\n",
        "for i in sess1.run(y_vald_t):\n",
        "    Y_validation_confussion_matrix.append( np.argmax(i))\n",
        "\n",
        "# create the cunfusion matrix\n",
        "confussion_matrix(confusion_matrix(Y_validation_confussion_matrix,pred_confussion_matrix))"
      ]
    },
    {
      "cell_type": "code",
      "execution_count": 11,
      "metadata": {
        "colab": {
          "base_uri": "https://localhost:8080/",
          "height": 35
        },
        "id": "XDqIz4seykpV",
        "outputId": "29e2ea43-bead-4ff7-bfac-15db754797b6"
      },
      "outputs": [
        {
          "output_type": "execute_result",
          "data": {
            "text/plain": [
              "'26class_2layers_30000iter'"
            ],
            "application/vnd.google.colaboratory.intrinsic+json": {
              "type": "string"
            }
          },
          "metadata": {},
          "execution_count": 11
        }
      ],
      "source": [
        "saver = tf.train.Saver()\n",
        "saver.save(sess1, \"26class_2layers_30000iter\")"
      ]
    },
    {
      "cell_type": "code",
      "execution_count": null,
      "metadata": {
        "id": "Mb_LKBpOykpb"
      },
      "outputs": [],
      "source": [
        "# 26 classes , 2 layers , 1040 , 520 , 1000 iterations , accuracy 0.228\n",
        "# 26 classes , 2 layers , 1040 , 520 , 5000 iterations , accuracy 0.463"
      ]
    }
  ],
  "metadata": {
    "accelerator": "GPU",
    "colab": {
      "provenance": []
    },
    "gpuClass": "premium",
    "kernelspec": {
      "display_name": "Python 3.10.8 64-bit",
      "language": "python",
      "name": "python3"
    },
    "language_info": {
      "codemirror_mode": {
        "name": "ipython",
        "version": 3
      },
      "file_extension": ".py",
      "mimetype": "text/x-python",
      "name": "python",
      "nbconvert_exporter": "python",
      "pygments_lexer": "ipython3",
      "version": "3.10.8"
    },
    "vscode": {
      "interpreter": {
        "hash": "bcc40836f47ef7b4493f57e3a45135d915df5deffbc353e6c0f28b20bc9e4f44"
      }
    }
  },
  "nbformat": 4,
  "nbformat_minor": 0
}